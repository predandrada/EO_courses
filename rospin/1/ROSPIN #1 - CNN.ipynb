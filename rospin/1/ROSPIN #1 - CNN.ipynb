{
 "cells": [
  {
   "cell_type": "code",
   "execution_count": 36,
   "id": "281d1618",
   "metadata": {},
   "outputs": [],
   "source": [
    "# Import libraries\n",
    "import numpy as np\n",
    "import pandas as pd\n",
    "import matplotlib.pyplot as plt\n",
    "import os\n",
    "\n",
    "from sklearn.preprocessing import MinMaxScaler\n",
    "from sklearn.model_selection import train_test_split"
   ]
  },
  {
   "cell_type": "code",
   "execution_count": 2,
   "id": "f3f5140d",
   "metadata": {},
   "outputs": [],
   "source": [
    "# Loading data from local files\n",
    "folder_path = \"B:\\\\shoebox\\\\EO\\\\rospin\\\\courses\\\\1\\\\Date_antrenare\\\\planesnet\"\n",
    "data_file = \"planesnet.json\"\n",
    "\n",
    "data = pd.read_json(os.path.join(folder_path, data_file))"
   ]
  },
  {
   "cell_type": "code",
   "execution_count": 3,
   "id": "790c4de2",
   "metadata": {},
   "outputs": [
    {
     "data": {
      "text/html": [
       "<div>\n",
       "<style scoped>\n",
       "    .dataframe tbody tr th:only-of-type {\n",
       "        vertical-align: middle;\n",
       "    }\n",
       "\n",
       "    .dataframe tbody tr th {\n",
       "        vertical-align: top;\n",
       "    }\n",
       "\n",
       "    .dataframe thead th {\n",
       "        text-align: right;\n",
       "    }\n",
       "</style>\n",
       "<table border=\"1\" class=\"dataframe\">\n",
       "  <thead>\n",
       "    <tr style=\"text-align: right;\">\n",
       "      <th></th>\n",
       "      <th>data</th>\n",
       "      <th>labels</th>\n",
       "      <th>locations</th>\n",
       "      <th>scene_ids</th>\n",
       "    </tr>\n",
       "  </thead>\n",
       "  <tbody>\n",
       "    <tr>\n",
       "      <th>0</th>\n",
       "      <td>[206, 195, 187, 183, 177, 175, 174, 193, 198, ...</td>\n",
       "      <td>1</td>\n",
       "      <td>[-118.40497658522878, 33.940618514147936]</td>\n",
       "      <td>20170620_175442_0e30</td>\n",
       "    </tr>\n",
       "    <tr>\n",
       "      <th>1</th>\n",
       "      <td>[215, 209, 200, 196, 192, 197, 205, 168, 155, ...</td>\n",
       "      <td>1</td>\n",
       "      <td>[-122.392469714, 37.6176425378]</td>\n",
       "      <td>20161212_180859_0e30</td>\n",
       "    </tr>\n",
       "    <tr>\n",
       "      <th>2</th>\n",
       "      <td>[204, 214, 220, 219, 213, 205, 198, 193, 199, ...</td>\n",
       "      <td>1</td>\n",
       "      <td>[-122.397578597, 37.6209247852]</td>\n",
       "      <td>20170524_181349_0e2f</td>\n",
       "    </tr>\n",
       "  </tbody>\n",
       "</table>\n",
       "</div>"
      ],
      "text/plain": [
       "                                                data  labels  \\\n",
       "0  [206, 195, 187, 183, 177, 175, 174, 193, 198, ...       1   \n",
       "1  [215, 209, 200, 196, 192, 197, 205, 168, 155, ...       1   \n",
       "2  [204, 214, 220, 219, 213, 205, 198, 193, 199, ...       1   \n",
       "\n",
       "                                   locations             scene_ids  \n",
       "0  [-118.40497658522878, 33.940618514147936]  20170620_175442_0e30  \n",
       "1            [-122.392469714, 37.6176425378]  20161212_180859_0e30  \n",
       "2            [-122.397578597, 37.6209247852]  20170524_181349_0e2f  "
      ]
     },
     "execution_count": 3,
     "metadata": {},
     "output_type": "execute_result"
    }
   ],
   "source": [
    "data.head(3)"
   ]
  },
  {
   "cell_type": "code",
   "execution_count": 4,
   "id": "bfd475a3",
   "metadata": {},
   "outputs": [
    {
     "data": {
      "text/plain": [
       "Index(['data', 'labels', 'locations', 'scene_ids'], dtype='object')"
      ]
     },
     "execution_count": 4,
     "metadata": {},
     "output_type": "execute_result"
    }
   ],
   "source": [
    "data.columns"
   ]
  },
  {
   "cell_type": "code",
   "execution_count": 30,
   "id": "59d08b36",
   "metadata": {},
   "outputs": [
    {
     "name": "stdout",
     "output_type": "stream",
     "text": [
      "(1200,)\n",
      "(3, 400)\n",
      "(400, 3)\n"
     ]
    },
    {
     "data": {
      "text/plain": [
       "<matplotlib.image.AxesImage at 0x1d101fbdbe0>"
      ]
     },
     "execution_count": 30,
     "metadata": {},
     "output_type": "execute_result"
    },
    {
     "data": {
      "image/png": "[encoded data removed]",
      "text/plain": [
       "<Figure size 432x288 with 1 Axes>"
      ]
     },
     "metadata": {
      "needs_background": "light"
     },
     "output_type": "display_data"
    }
   ],
   "source": [
    "# Representing the image as a vector\n",
    "# Extracting the 30th image from our dataset\n",
    "image = np.array(data['data'][30])\n",
    "print(image.shape)\n",
    "\n",
    "# This image is not in the right format, therefore we separate it into 3 channels (RGB)\n",
    "# Note that the images are 20x20 px\n",
    "image = image.reshape(3, 20*20)\n",
    "print(image.shape)\n",
    "\n",
    "# Transposing the image\n",
    "image = image.T\n",
    "print(image.shape)\n",
    "\n",
    "# Bringing the image to the proper shape (20, 20, 3)\n",
    "image = image.reshape(20, 20, 3)\n",
    "\n",
    "# Plot image \n",
    "plt.imshow(image)"
   ]
  },
  {
   "cell_type": "code",
   "execution_count": 31,
   "id": "6d10d19c",
   "metadata": {},
   "outputs": [
    {
     "name": "stdout",
     "output_type": "stream",
     "text": [
      "24000\n",
      "8000\n"
     ]
    },
    {
     "data": {
      "text/plain": [
       "<BarContainer object of 2 artists>"
      ]
     },
     "execution_count": 31,
     "metadata": {},
     "output_type": "execute_result"
    },
    {
     "data": {
      "image/png": "[encoded data removed]",
      "text/plain": [
       "<Figure size 432x288 with 1 Axes>"
      ]
     },
     "metadata": {
      "needs_background": "light"
     },
     "output_type": "display_data"
    }
   ],
   "source": [
    "labels_0 = data.loc[data['labels'] == 0]\n",
    "labels_1 = data.loc[data['labels'] == 1]\n",
    "\n",
    "print(len(labels_0))\n",
    "print(len(labels_1))\n",
    "\n",
    "# Plot histogram of labels\n",
    "plt.clf() # clear \n",
    "plt.bar(['Fara avion', 'Cu avion'], [len(labels_0),len(labels_1)])"
   ]
  },
  {
   "cell_type": "code",
   "execution_count": 35,
   "id": "a7ee7bb2",
   "metadata": {},
   "outputs": [
    {
     "name": "stdout",
     "output_type": "stream",
     "text": [
      "(32000, 20, 20, 3)\n",
      "(32000,)\n"
     ]
    }
   ],
   "source": [
    "# Construct the vectors that the model can work for \n",
    "# X - examples (our images)\n",
    "# Y - labels (whether there is a plane or not)\n",
    "\n",
    "# Construct X\n",
    "x = []\n",
    "for iterator, row in data.iterrows():\n",
    "    image = np.array(row['data'])\n",
    "    \n",
    "    # Channels first\n",
    "    image = image.reshape(3, 20*20)\n",
    "    \n",
    "    # Transpose\n",
    "    image = image.T\n",
    "    \n",
    "    # Reshape\n",
    "    image = image.reshape(20, 20, 3)\n",
    "    \n",
    "    # Put image in X vector\n",
    "    x.append(image)\n",
    "\n",
    "x = np.array(x)\n",
    "\n",
    "# Construct Y \n",
    "y = np.array(data['labels'])\n",
    "\n",
    "print(x.shape)\n",
    "print(y.shape)"
   ]
  },
  {
   "cell_type": "code",
   "execution_count": 37,
   "id": "d2538c16",
   "metadata": {},
   "outputs": [],
   "source": [
    "# Split data into train and test sets \n",
    "# 80% train, 20% test\n",
    "x_train, x_test, y_train, y_test = train_test_split(x, y, test_size=0.20)"
   ]
  },
  {
   "cell_type": "code",
   "execution_count": null,
   "id": "345e6f62",
   "metadata": {},
   "outputs": [],
   "source": [
    "# Needs to get the size of x_train as an input\n",
    "scalar = MinMaxScaler()\n",
    "scalar.fit()"
   ]
  }
 ],
 "metadata": {
  "kernelspec": {
   "display_name": "Python 3 (ipykernel)",
   "language": "python",
   "name": "python3"
  },
  "language_info": {
   "codemirror_mode": {
    "name": "ipython",
    "version": 3
   },
   "file_extension": ".py",
   "mimetype": "text/x-python",
   "name": "python",
   "nbconvert_exporter": "python",
   "pygments_lexer": "ipython3",
   "version": "3.9.7"
  }
 },
 "nbformat": 4,
 "nbformat_minor": 5
}
